{
 "cells": [
  {
   "cell_type": "markdown",
   "metadata": {
    "id": "m4FHJCh8LsIv"
   },
   "source": [
    "# New York City Taxi Fare Prediction\n"
   ]
  },
  {
   "cell_type": "markdown",
   "metadata": {
    "id": "G3BXd-lQe7zy"
   },
   "source": [
    "Here's an outline of the project:\n",
    "\n",
    "1. Download the dataset\n",
    "2. Explore & analyze the dataset\n",
    "3. Prepare the dataset for ML training\n",
    "4. Train hardcoded & baseline models\n",
    "5. Make predictions\n",
    "6. Perform feature engineering\n",
    "7. Train & evaluate different models\n",
    "8. Tune hyperparameters for the best model\n",
    "9. Train on a GPU with the entire dataset\n",
    "10. Document & publish the project online"
   ]
  },
  {
   "cell_type": "code",
   "execution_count": 2,
   "metadata": {
    "executionInfo": {
     "elapsed": 3118,
     "status": "ok",
     "timestamp": 1665504582990,
     "user": {
      "displayName": "Mohit Kumar",
      "userId": "03888987891614882912"
     },
     "user_tz": -330
    },
    "id": "MytE7yrKLsI0"
   },
   "outputs": [],
   "source": [
    "!pip install jovian --upgrade --quiet"
   ]
  },
  {
   "cell_type": "code",
   "execution_count": 3,
   "metadata": {
    "executionInfo": {
     "elapsed": 60,
     "status": "ok",
     "timestamp": 1665504582992,
     "user": {
      "displayName": "Mohit Kumar",
      "userId": "03888987891614882912"
     },
     "user_tz": -330
    },
    "id": "zueZLldSLsI2"
   },
   "outputs": [],
   "source": [
    "import jovian"
   ]
  },
  {
   "cell_type": "code",
   "execution_count": null,
   "metadata": {
    "colab": {
     "base_uri": "https://localhost:8080/"
    },
    "id": "p6XIY27qLsI5",
    "outputId": "b4d2e78b-c850-473a-a978-8b5262b836b2"
   },
   "outputs": [
    {
     "name": "stdout",
     "output_type": "stream",
     "text": [
      "[jovian] Detected Colab notebook...\u001b[0m\n",
      "[jovian] Please enter your API key ( from https://jovian.ai/ ):\u001b[0m\n",
      "API KEY: "
     ]
    }
   ],
   "source": [
    "# Execute this to save new versions of the notebook\n",
    "jovian.commit(project=\"new-york-city-taxi-fare-prediction\")"
   ]
  },
  {
   "cell_type": "code",
   "execution_count": null,
   "metadata": {
    "colab": {
     "background_save": true
    },
    "id": "9v3YYq0cLsI7"
   },
   "outputs": [
    {
     "name": "stdout",
     "output_type": "stream",
     "text": [
      "[jovian] Detected Colab notebook...\u001b[0m\n",
      "[jovian] Uploading colab notebook to Jovian...\u001b[0m\n",
      "Committed successfully! https://jovian.ai/mohitcnf95/new-york-city-taxi-fare-prediction\n"
     ]
    },
    {
     "data": {
      "application/vnd.google.colaboratory.intrinsic+json": {
       "type": "string"
      },
      "text/plain": [
       "'https://jovian.ai/mohitcnf95/new-york-city-taxi-fare-prediction'"
      ]
     },
     "execution_count": 5,
     "metadata": {},
     "output_type": "execute_result"
    }
   ],
   "source": [
    "jovian.commit()"
   ]
  },
  {
   "cell_type": "markdown",
   "metadata": {
    "id": "ABNXSDj-eixb"
   },
   "source": [
    "## 1. Download the Dataset\n",
    "\n",
    "- Install required libraries\n",
    "- Download data from Kaggle\n",
    "- View dataset files\n",
    "- Load training set with Pandas\n",
    "- Load test set with Pandas"
   ]
  },
  {
   "cell_type": "markdown",
   "metadata": {
    "id": "h9LxUsGmeibs"
   },
   "source": [
    "### Install required libraries"
   ]
  },
  {
   "cell_type": "code",
   "execution_count": null,
   "metadata": {
    "id": "xlCX9EKXebKC"
   },
   "outputs": [],
   "source": [
    "!pip install numpy pandas opendatasets scikit-learn xgboost --quiet"
   ]
  },
  {
   "cell_type": "markdown",
   "metadata": {
    "id": "rTpYKG3Dfye4"
   },
   "source": [
    "### Download data from Kaggle"
   ]
  },
  {
   "cell_type": "code",
   "execution_count": null,
   "metadata": {
    "id": "yqV4jwx2futn"
   },
   "outputs": [],
   "source": [
    "import opendatasets as od"
   ]
  },
  {
   "cell_type": "code",
   "execution_count": null,
   "metadata": {
    "id": "0q9ZhBvMf3ZC"
   },
   "outputs": [],
   "source": [
    "dataset_url = 'https://www.kaggle.com/competitions/new-york-city-taxi-fare-prediction'"
   ]
  },
  {
   "cell_type": "code",
   "execution_count": null,
   "metadata": {
    "id": "p-LEd0IhgJ4i"
   },
   "outputs": [],
   "source": [
    "od.download(dataset_url)"
   ]
  },
  {
   "cell_type": "code",
   "execution_count": null,
   "metadata": {
    "id": "dZoTJAS4gV9e"
   },
   "outputs": [],
   "source": [
    "data = 'new-york-city-taxi-fare-prediction'"
   ]
  },
  {
   "cell_type": "markdown",
   "metadata": {
    "id": "MME4J82cjRIY"
   },
   "source": [
    "### View dataset files"
   ]
  },
  {
   "cell_type": "code",
   "execution_count": null,
   "metadata": {
    "id": "cXBd7Db1jJ-o"
   },
   "outputs": [],
   "source": [
    "#! means shell command\n",
    "!ls -lh {data} # List of files with size"
   ]
  },
  {
   "cell_type": "code",
   "execution_count": null,
   "metadata": {
    "id": "yvpnLViljknR"
   },
   "outputs": [],
   "source": [
    "!wc -l {data}/train.csv # List of no of lines in train set"
   ]
  },
  {
   "cell_type": "code",
   "execution_count": null,
   "metadata": {
    "id": "8wF0GcVwkWre"
   },
   "outputs": [],
   "source": [
    "!wc -l {data}/test.csv # List of no of lines in test set"
   ]
  },
  {
   "cell_type": "code",
   "execution_count": null,
   "metadata": {
    "id": "eGEu2VpfksSB"
   },
   "outputs": [],
   "source": [
    "!head {data}/train.csv #few parts of training data sets"
   ]
  },
  {
   "cell_type": "code",
   "execution_count": null,
   "metadata": {
    "id": "CJUmht_2kyxZ"
   },
   "outputs": [],
   "source": [
    "!head {data}/test.csv #few parts of test data sets"
   ]
  },
  {
   "cell_type": "markdown",
   "metadata": {
    "id": "rJpuaVajlHIi"
   },
   "source": [
    "**Observations:**\n",
    "1. It is a supervised learning regression\n",
    "2. Train Data is a 5.4 GB file with 55423856 rows\n",
    "3. Test Data is very small (<10000 rows)\n",
    "4. The training set has 8 columns:\n",
    "    - key (a unique identifier)\n",
    "    - fare_amount (target column)\n",
    "    - pickup_datetime\n",
    "    - pickup_longitude\n",
    "    - pickup_latitude\n",
    "    - dropoff_longitude\n",
    "    - dropoff_latitude\n",
    "    - passenger_count\n",
    "5. The test set has all columns except the target column fare_amount.\n",
    "6. The submission file should contain the key and fare_amount for each test sample.\n",
    "\n"
   ]
  },
  {
   "cell_type": "code",
   "execution_count": null,
   "metadata": {
    "id": "4yCOVU1NmIsA"
   },
   "outputs": [],
   "source": [
    "jovian.commit()"
   ]
  },
  {
   "cell_type": "markdown",
   "metadata": {
    "id": "rcTFP3m6mQrq"
   },
   "source": [
    "### Loading training sets with pandas"
   ]
  },
  {
   "cell_type": "markdown",
   "metadata": {
    "id": "2sGnbUcimiQ9"
   },
   "source": [
    "Loading the entire dataset into Pandas is going to be slow, so we can use the following optimizations:\n",
    "\n",
    "- Ignore the key column\n",
    "- Parse pickup datetime while loading data\n",
    "- Specify data types for other columns\n",
    "    eg:\n",
    "    - float32 for geo coordinates\n",
    "    - float32 for fare amount\n",
    "    - uint8 for passenger count\n",
    "- Work with a 1% sample of the data (~500k rows)\n",
    "- We can apply these optimizations while using pd.read_csv"
   ]
  },
  {
   "cell_type": "code",
   "execution_count": null,
   "metadata": {
    "id": "s7pHs9tjk8r9"
   },
   "outputs": [],
   "source": [
    "#importing relevant libraries\n",
    "import pandas as pd\n",
    "import random"
   ]
  },
  {
   "cell_type": "code",
   "execution_count": null,
   "metadata": {
    "id": "Tb3XMjpXm6Ot"
   },
   "outputs": [],
   "source": [
    "# Change this for sample fraction for 1% of total sample\n",
    "sample_frac = 0.01"
   ]
  },
  {
   "cell_type": "code",
   "execution_count": null,
   "metadata": {
    "id": "DLmqvClwnLqO"
   },
   "outputs": [],
   "source": [
    "selected_Col = 'fare_amount,pickup_datetime,pickup_longitude,pickup_latitude,dropoff_longitude,dropoff_latitude,passenger_count'. split(',')\n",
    "selected_Col"
   ]
  },
  {
   "cell_type": "code",
   "execution_count": null,
   "metadata": {
    "id": "hM9Z_XZ5nx0P"
   },
   "outputs": [],
   "source": [
    "dtypes = {\n",
    "    'fare_amount': 'float32',\n",
    "    'pickup_longitude': 'float32',\n",
    "    'pickup_latitude': 'float32',\n",
    "    'dropoff_longitude': 'float32',\n",
    "    'passenger_count': 'float32'\n",
    "} # We are assigning the data type of the columns\n",
    "\n",
    "def skip_row(row_idx): # we are creating a random funtion to select random rows from the dateset for our sample dataset of1%\n",
    "    if row_idx == 0:\n",
    "        return False\n",
    "    return random.random() > sample_frac\n",
    "\n",
    "random.seed(42)\n",
    "df = pd.read_csv(data+\"/train.csv\", \n",
    "                 usecols=selected_Col, \n",
    "                 dtype=dtypes, \n",
    "                 parse_dates=['pickup_datetime'], \n",
    "                 skiprows=skip_row) # we are loading data with various arguments like no of colums to be loaded"
   ]
  },
  {
   "cell_type": "code",
   "execution_count": null,
   "metadata": {
    "id": "bK4NvujDsMRh"
   },
   "outputs": [],
   "source": [
    "df"
   ]
  },
  {
   "cell_type": "markdown",
   "metadata": {
    "id": "Apirbu3Mr8Vk"
   },
   "source": [
    "### Load Test Datasets"
   ]
  },
  {
   "cell_type": "code",
   "execution_count": null,
   "metadata": {
    "id": "RAemjiWEsRSm"
   },
   "outputs": [],
   "source": [
    "test_df = pd.read_csv(data+'/test.csv', dtype = dtypes, parse_dates=['pickup_datetime'])\n",
    "test_df"
   ]
  },
  {
   "cell_type": "code",
   "execution_count": null,
   "metadata": {
    "id": "V47mFzW7s6O9"
   },
   "outputs": [],
   "source": [
    "jovian.commit()"
   ]
  },
  {
   "cell_type": "markdown",
   "metadata": {
    "id": "NXFMpwkDsypo"
   },
   "source": [
    "## 2. Explore the Dataset"
   ]
  },
  {
   "cell_type": "markdown",
   "metadata": {
    "id": "KOYCsbjis3Q6"
   },
   "source": [
    "- Basic info about training set\n",
    "- Basic info about test set\n",
    "- Exploratory data analysis & visualization\n",
    "- Ask & answer questions"
   ]
  },
  {
   "cell_type": "markdown",
   "metadata": {
    "id": "GzvBeju8tWhh"
   },
   "source": [
    "### Training Set"
   ]
  },
  {
   "cell_type": "code",
   "execution_count": null,
   "metadata": {
    "id": "eZfYstzRq0gf"
   },
   "outputs": [],
   "source": [
    "df.info()  "
   ]
  },
  {
   "cell_type": "code",
   "execution_count": null,
   "metadata": {
    "id": "wuvpc1ettbEq"
   },
   "outputs": [],
   "source": [
    "df.describe()"
   ]
  },
  {
   "cell_type": "code",
   "execution_count": null,
   "metadata": {
    "id": "-D3rWeoctgwK"
   },
   "outputs": [],
   "source": [
    "df.pickup_datetime.min(), df.pickup_datetime.max()"
   ]
  },
  {
   "cell_type": "markdown",
   "metadata": {
    "id": "-4sP2zOcuVD7"
   },
   "source": [
    "**Observations about training data:**\n",
    "\n",
    "- 550k+ rows, as expected\n",
    "- No missing data (in the sample)\n",
    "- fare_amount ranges from −52.0 to 499.0\n",
    "- passenger_count ranges from 0 to 208\n",
    "- There seem to be some errors in the latitude & longitude values\n",
    "- Dates range from 1st Jan 2009 to 30th June 2015\n",
    "- The dataset takes up ~19 MB of space in the RAM\n",
    "\n",
    "We may need to deal with outliers and data entry errors before we train our model."
   ]
  },
  {
   "cell_type": "markdown",
   "metadata": {
    "id": "KJx-AsLVupro"
   },
   "source": [
    "### Test Datasets"
   ]
  },
  {
   "cell_type": "code",
   "execution_count": null,
   "metadata": {
    "id": "BfhkT3uHuMy3"
   },
   "outputs": [],
   "source": [
    "test_df.info()"
   ]
  },
  {
   "cell_type": "code",
   "execution_count": null,
   "metadata": {
    "id": "LOUPudiBuuaB"
   },
   "outputs": [],
   "source": [
    "test_df.describe()"
   ]
  },
  {
   "cell_type": "code",
   "execution_count": null,
   "metadata": {
    "id": "byp5Gj40u2Bp"
   },
   "outputs": [],
   "source": [
    "test_df.pickup_datetime.min(), test_df.pickup_datetime.max()"
   ]
  },
  {
   "cell_type": "markdown",
   "metadata": {
    "id": "90gU-3GgviJI"
   },
   "source": [
    "**Observations about the test set:**\n",
    "\n",
    "- 9914 rows of data\n",
    "- No missing values\n",
    "- No obvious data entry errors\n",
    "- 1 to 6 passengers (we can limit training data to this range)\n",
    "- Latitudes lie between 40 and 42\n",
    "- Longitudes lie between -75 and -72\n",
    "- Pickup dates range from Jan 1st 2009 to Jun 30th 2015 (same as training set)\n",
    "\n",
    "***We can use the ranges of the test set to drop outliers/invalid data from the training set.***"
   ]
  },
  {
   "cell_type": "code",
   "execution_count": null,
   "metadata": {
    "id": "kDCtj7EFvOGJ"
   },
   "outputs": [],
   "source": [
    "jovian.commit()"
   ]
  },
  {
   "cell_type": "markdown",
   "metadata": {
    "id": "7fcRyXXluycS"
   },
   "source": [
    "What is the busiest day of the week?"
   ]
  },
  {
   "cell_type": "code",
   "execution_count": null,
   "metadata": {
    "id": "1DVpw19iwOQZ"
   },
   "outputs": [],
   "source": [
    "df['pickup_datetime'][0].weekday()"
   ]
  },
  {
   "cell_type": "code",
   "execution_count": null,
   "metadata": {
    "id": "4hZscUIkutdX"
   },
   "outputs": [],
   "source": [
    "def date_to_weekday(date_value): #creating a function that will return week day for the new column in dataframe\n",
    "    return date_value.weekday()"
   ]
  },
  {
   "cell_type": "code",
   "execution_count": null,
   "metadata": {
    "id": "Z4Ra5V06xh1N"
   },
   "outputs": [],
   "source": [
    "df['Day of the week'] = df['pickup_datetime'].apply(date_to_weekday)"
   ]
  },
  {
   "cell_type": "code",
   "execution_count": null,
   "metadata": {
    "id": "_hUmWnXfxhq8"
   },
   "outputs": [],
   "source": [
    "df['Day of the week']"
   ]
  },
  {
   "cell_type": "code",
   "execution_count": null,
   "metadata": {
    "id": "ib0n1EbTyDmN"
   },
   "outputs": [],
   "source": [
    "df.describe()"
   ]
  },
  {
   "cell_type": "code",
   "execution_count": null,
   "metadata": {
    "id": "0S26uqaCJKpw"
   },
   "outputs": [],
   "source": [
    "df_new = df.copy()"
   ]
  },
  {
   "cell_type": "code",
   "execution_count": null,
   "metadata": {
    "id": "Trmly-NSJKnI"
   },
   "outputs": [],
   "source": [
    "df_new['Month'] = df_new['pickup_datetime'].dt.month\n",
    "df_new.head()"
   ]
  },
  {
   "cell_type": "code",
   "execution_count": null,
   "metadata": {
    "id": "-RbFS-3ZNJPG"
   },
   "outputs": [],
   "source": [
    "df_new['Hour of the day'] = df_new['pickup_datetime'].dt.hour\n",
    "df_new.head()"
   ]
  },
  {
   "cell_type": "code",
   "execution_count": null,
   "metadata": {
    "id": "DX_sIKOONJD6"
   },
   "outputs": [],
   "source": [
    "df_new = df_new.drop(\"pickup_datetime\",axis=1)\n",
    "df_new.head()"
   ]
  },
  {
   "cell_type": "code",
   "execution_count": null,
   "metadata": {
    "id": "_wgADb11OnxJ"
   },
   "outputs": [],
   "source": [
    "df_new.describe()"
   ]
  },
  {
   "cell_type": "code",
   "execution_count": null,
   "metadata": {
    "id": "19PVAboAYc00"
   },
   "outputs": [],
   "source": [
    "test_df_Day = test_df.copy()"
   ]
  },
  {
   "cell_type": "code",
   "execution_count": null,
   "metadata": {
    "id": "bWwEAk4JYJe4"
   },
   "outputs": [],
   "source": [
    "def date_to_weekday(date_value): #creating a function that will return week day for the new column in dataframe\n",
    "    return date_value.weekday()"
   ]
  },
  {
   "cell_type": "code",
   "execution_count": null,
   "metadata": {
    "id": "VG8cgm2Y0oMU"
   },
   "outputs": [],
   "source": [
    "test_df_Day['Day of the week'] = test_df_Day['pickup_datetime'].apply(date_to_weekday)\n",
    "test_df_Day['Month'] = test_df_Day['pickup_datetime'].dt.month\n",
    "test_df_Day['Hour of the day'] = test_df_Day['pickup_datetime'].dt.hour  \n",
    "test_df_Day.head()"
   ]
  },
  {
   "cell_type": "code",
   "execution_count": null,
   "metadata": {
    "id": "zIABLcol0oAm"
   },
   "outputs": [],
   "source": [
    "test_df_Day = test_df_Day.drop(\"pickup_datetime\",axis=1) \n",
    "test_df_Day.head()"
   ]
  },
  {
   "cell_type": "code",
   "execution_count": null,
   "metadata": {
    "id": "y3Tl2stg5zYK"
   },
   "outputs": [],
   "source": [
    "test_df = test_df_Day.copy()"
   ]
  },
  {
   "cell_type": "code",
   "execution_count": null,
   "metadata": {
    "id": "y3DpkoYc6mIc"
   },
   "outputs": [],
   "source": [
    "test_df.head()"
   ]
  },
  {
   "cell_type": "markdown",
   "metadata": {
    "id": "QCnnSHcl7ti8"
   },
   "source": [
    "### Distance Between Pickup and Drop"
   ]
  },
  {
   "cell_type": "code",
   "execution_count": null,
   "metadata": {
    "id": "UX_2f6bS7wJz"
   },
   "outputs": [],
   "source": [
    "import numpy as np\n",
    "\n",
    "def haversine_np(lon1, lat1, lon2, lat2):\n",
    "    \"\"\"\n",
    "    Calculate the great circle distance between two points\n",
    "    on the earth (specified in decimal degrees)\n",
    "\n",
    "    All args must be of equal length.    \n",
    "\n",
    "    \"\"\"\n",
    "    lon1, lat1, lon2, lat2 = map(np.radians, [lon1, lat1, lon2, lat2])\n",
    "\n",
    "    dlon = lon2 - lon1\n",
    "    dlat = lat2 - lat1\n",
    "\n",
    "    a = np.sin(dlat/2.0)**2 + np.cos(lat1) * np.cos(lat2) * np.sin(dlon/2.0)**2\n",
    "\n",
    "    c = 2 * np.arcsin(np.sqrt(a))\n",
    "    km = 6367 * c\n",
    "    return km"
   ]
  },
  {
   "cell_type": "code",
   "execution_count": null,
   "metadata": {
    "id": "u-hSEpwl7v_I"
   },
   "outputs": [],
   "source": [
    "def add_trip_distance(df_new):\n",
    "    df_new['trip_distance'] = haversine_np(df_new['pickup_longitude'], df_new['pickup_latitude'], df_new['dropoff_longitude'], df_new['dropoff_latitude'])"
   ]
  },
  {
   "cell_type": "code",
   "execution_count": null,
   "metadata": {
    "id": "RsmjjqB577wo"
   },
   "outputs": [],
   "source": [
    "def add_trip_distance(test_df):\n",
    "    test_df['trip_distance'] = haversine_np(test_df['pickup_longitude'], test_df['pickup_latitude'], test_df['dropoff_longitude'], test_df['dropoff_latitude'])"
   ]
  },
  {
   "cell_type": "code",
   "execution_count": null,
   "metadata": {
    "id": "dP7Twz2u9f1i"
   },
   "outputs": [],
   "source": [
    "%%time\n",
    "add_trip_distance(df_new)"
   ]
  },
  {
   "cell_type": "code",
   "execution_count": null,
   "metadata": {
    "id": "W3bBLq3x9flH"
   },
   "outputs": [],
   "source": [
    "%%time\n",
    "add_trip_distance(test_df)"
   ]
  },
  {
   "cell_type": "code",
   "execution_count": null,
   "metadata": {
    "id": "qd6HNdAy9pmH"
   },
   "outputs": [],
   "source": [
    "df_new.head()"
   ]
  },
  {
   "cell_type": "code",
   "execution_count": null,
   "metadata": {
    "id": "-cpaoHIs9qOC"
   },
   "outputs": [],
   "source": [
    "test_df.head()"
   ]
  },
  {
   "cell_type": "markdown",
   "metadata": {
    "id": "nrpyXEtk99oJ"
   },
   "source": [
    "### Remove Outliers and Invalid Data"
   ]
  },
  {
   "cell_type": "markdown",
   "metadata": {
    "id": "jxfPJYNs-d8H"
   },
   "source": [
    "There seems to be some invalide data in each of the following columns:\n",
    "\n",
    "- Fare amount\n",
    "- Passenger count\n",
    "- Pickup latitude & longitude\n",
    "- Drop latitude & longitude"
   ]
  },
  {
   "cell_type": "code",
   "execution_count": null,
   "metadata": {
    "id": "NnUFDib59_Y-"
   },
   "outputs": [],
   "source": [
    "df_new.describe()"
   ]
  },
  {
   "cell_type": "markdown",
   "metadata": {
    "id": "z8HUBP0u-XMl"
   },
   "source": [
    "We'll use the following ranges:\n",
    "\n",
    "- fare_amount: [Math Processing Error]500\n",
    "- longitudes: -75 to -72\n",
    "- latitudes: 40 to 42\n",
    "- passenger_count: 1 to 6\n",
    "\n",
    "As our test data ranges from the followings.\n"
   ]
  },
  {
   "cell_type": "code",
   "execution_count": null,
   "metadata": {
    "id": "MXNDKMb19_VJ"
   },
   "outputs": [],
   "source": [
    "def remove_outliers(dfn):\n",
    "    return dfn[(dfn['fare_amount'] >= 1.) & \n",
    "              (dfn['fare_amount'] <= 500.) &\n",
    "              (dfn['pickup_longitude'] >= -75) & \n",
    "              (dfn['pickup_longitude'] <= -72) & \n",
    "              (dfn['dropoff_longitude'] >= -75) & \n",
    "              (dfn['dropoff_longitude'] <= -72) & \n",
    "              (dfn['pickup_latitude'] >= 40) & \n",
    "              (dfn['pickup_latitude'] <= 42) & \n",
    "              (dfn['dropoff_latitude'] >=40) & \n",
    "              (dfn['dropoff_latitude'] <= 42) & \n",
    "              (dfn['passenger_count'] >= 1) & \n",
    "              (dfn['passenger_count'] <= 6)]\n"
   ]
  },
  {
   "cell_type": "code",
   "execution_count": null,
   "metadata": {
    "id": "3hN7BmfE-5PA"
   },
   "outputs": [],
   "source": [
    "df_new = remove_outliers(df_new)"
   ]
  },
  {
   "cell_type": "code",
   "execution_count": null,
   "metadata": {
    "id": "otNDsQ6F_xDX"
   },
   "outputs": [],
   "source": [
    "df_new.describe()"
   ]
  },
  {
   "cell_type": "code",
   "execution_count": null,
   "metadata": {
    "id": "5v5vBso4AUkV"
   },
   "outputs": [],
   "source": [
    "jovian.commit()"
   ]
  },
  {
   "cell_type": "code",
   "execution_count": null,
   "metadata": {
    "id": "eIYj2eSJC_UJ"
   },
   "outputs": [],
   "source": [
    "df_new_next = df_new.copy()\n",
    "test_df_new = test_df.copy()"
   ]
  },
  {
   "cell_type": "code",
   "execution_count": null,
   "metadata": {
    "id": "HRYQgLA2DKt0"
   },
   "outputs": [],
   "source": [
    "df_new_next.to_parquet('df_new_next.parquet')"
   ]
  },
  {
   "cell_type": "code",
   "execution_count": null,
   "metadata": {
    "id": "ruvp0unxDKiE"
   },
   "outputs": [],
   "source": [
    "test_df_new.to_parquet('test_df_new.parquet')"
   ]
  },
  {
   "cell_type": "markdown",
   "metadata": {
    "id": "DMdZIzZ7AO8v"
   },
   "source": [
    "**Ask & Answer Questions about the dataset:**\n",
    "1. What is the busiest day of the week?\n",
    "2. What is the busiest time of the day?\n",
    "3. In which month are fares the highest?\n",
    "4. Which pickup locations have the highest fares?\n",
    "5. Which drop locations have the highest fares?\n",
    "6. What is the average ride distance?"
   ]
  },
  {
   "cell_type": "markdown",
   "metadata": {
    "id": "Xw6hrTsnzNYH"
   },
   "source": [
    "## 3. Prepare Dataset for Training"
   ]
  },
  {
   "cell_type": "markdown",
   "metadata": {
    "id": "4fEcsoXjzZn6"
   },
   "source": [
    "- Split Training & Validation Set\n",
    "- Fill/Remove Missing Values\n",
    "- Extract Inputs & Outputs\n",
    "      - Training\n",
    "      - Validation\n",
    "      - Test"
   ]
  },
  {
   "cell_type": "markdown",
   "metadata": {
    "id": "2itPYTmezuMb"
   },
   "source": [
    "### Split Training & Validation Set"
   ]
  },
  {
   "cell_type": "markdown",
   "metadata": {
    "id": "psSu-QjHz1B6"
   },
   "source": [
    "We'll set aside 20% of the training data as the validation set, to evaluate the models we train on previously unseen data.\n",
    "\n",
    "Since the test set and training set have the same date ranges, we can pick a random 20% fraction. (validation set should be as similar to the test set or real-world data as possible i.e. the evaluation metric score of a model on validation & test sets should be very close, otherwise you're shooting in the dark.)"
   ]
  },
  {
   "cell_type": "code",
   "execution_count": null,
   "metadata": {
    "id": "_FRxsdl1vWBZ"
   },
   "outputs": [],
   "source": [
    "from sklearn.model_selection import train_test_split"
   ]
  },
  {
   "cell_type": "code",
   "execution_count": null,
   "metadata": {
    "id": "s0jfmXr-z-9L"
   },
   "outputs": [],
   "source": [
    "train_df, val_df = train_test_split(df_new, test_size = 0.2, random_state= 42) # Splitting train data into train data and validation data"
   ]
  },
  {
   "cell_type": "code",
   "execution_count": null,
   "metadata": {
    "id": "zizU_dJDz-uv"
   },
   "outputs": [],
   "source": [
    "len(train_df), len(val_df)"
   ]
  },
  {
   "cell_type": "markdown",
   "metadata": {
    "id": "UXPg-NEO0AC0"
   },
   "source": [
    "### Fill/Remove Missing Values"
   ]
  },
  {
   "cell_type": "markdown",
   "metadata": {
    "id": "G4og1dnP1UL0"
   },
   "source": [
    "There are no missing values in our sample, but if there were, we could simply drop the rows with missing values instead of trying to fill them (since we have a lot of training data)>"
   ]
  },
  {
   "cell_type": "code",
   "execution_count": null,
   "metadata": {
    "id": "pCZJHLPn6etz"
   },
   "outputs": [],
   "source": [
    "jovian.commit()"
   ]
  },
  {
   "cell_type": "markdown",
   "metadata": {
    "id": "zE2pY2Ux0JUH"
   },
   "source": [
    "### Extract Inputs and Outputs"
   ]
  },
  {
   "cell_type": "code",
   "execution_count": null,
   "metadata": {
    "id": "JwND9b8Z0Kxp"
   },
   "outputs": [],
   "source": [
    "train_df.columns"
   ]
  },
  {
   "cell_type": "code",
   "execution_count": null,
   "metadata": {
    "id": "5ISbpeMdK-iB"
   },
   "outputs": [],
   "source": [
    "test_df.columns"
   ]
  },
  {
   "cell_type": "code",
   "execution_count": null,
   "metadata": {
    "id": "Jp8qDykt0Ooq"
   },
   "outputs": [],
   "source": [
    "input_cols = ['pickup_longitude', 'pickup_latitude',\n",
    "       'dropoff_longitude', 'dropoff_latitude', 'passenger_count',\n",
    "       'Day of the week', 'Month', 'Hour of the day',\n",
    "       'trip_distance']"
   ]
  },
  {
   "cell_type": "code",
   "execution_count": null,
   "metadata": {
    "id": "chEU_qNy0Ocj"
   },
   "outputs": [],
   "source": [
    "target_cols = ['fare_amount']"
   ]
  },
  {
   "cell_type": "markdown",
   "metadata": {
    "id": "r3l4v86R0MV5"
   },
   "source": [
    "### Training"
   ]
  },
  {
   "cell_type": "code",
   "execution_count": null,
   "metadata": {
    "id": "wldft05J0L_z"
   },
   "outputs": [],
   "source": [
    "train_inputs = train_df[input_cols]"
   ]
  },
  {
   "cell_type": "code",
   "execution_count": null,
   "metadata": {
    "id": "SNQD9aTZJ2xS"
   },
   "outputs": [],
   "source": [
    "train_inputs.head()"
   ]
  },
  {
   "cell_type": "code",
   "execution_count": null,
   "metadata": {
    "id": "Hm1hjkaA0L5z"
   },
   "outputs": [],
   "source": [
    "train_targets = train_df[target_cols]"
   ]
  },
  {
   "cell_type": "code",
   "execution_count": null,
   "metadata": {
    "id": "Mv3IoFdbJ5dX"
   },
   "outputs": [],
   "source": [
    "train_targets"
   ]
  },
  {
   "cell_type": "markdown",
   "metadata": {
    "id": "LAiERKZgJQgk"
   },
   "source": [
    "### Validation Data"
   ]
  },
  {
   "cell_type": "code",
   "execution_count": null,
   "metadata": {
    "id": "9vVemCbdJJLv"
   },
   "outputs": [],
   "source": [
    "val_inputs = val_df[input_cols]"
   ]
  },
  {
   "cell_type": "code",
   "execution_count": null,
   "metadata": {
    "id": "eDx26s_3KHAf"
   },
   "outputs": [],
   "source": [
    "val_inputs.head()"
   ]
  },
  {
   "cell_type": "code",
   "execution_count": null,
   "metadata": {
    "id": "heo2L6_MJawH"
   },
   "outputs": [],
   "source": [
    "val_targets = val_df[target_cols]"
   ]
  },
  {
   "cell_type": "code",
   "execution_count": null,
   "metadata": {
    "id": "CutZsyABKH4n"
   },
   "outputs": [],
   "source": [
    "val_targets"
   ]
  },
  {
   "cell_type": "markdown",
   "metadata": {
    "id": "6v6wKTxZKRVf"
   },
   "source": [
    "### Testing Data"
   ]
  },
  {
   "cell_type": "code",
   "execution_count": null,
   "metadata": {
    "id": "_fF4NONAKYHu"
   },
   "outputs": [],
   "source": [
    "test_inputs = test_df[input_cols]"
   ]
  },
  {
   "cell_type": "code",
   "execution_count": null,
   "metadata": {
    "id": "HBIMcNr_KczN"
   },
   "outputs": [],
   "source": [
    "test_inputs.head()"
   ]
  },
  {
   "cell_type": "code",
   "execution_count": null,
   "metadata": {
    "id": "HShBzvQ-MmPv"
   },
   "outputs": [],
   "source": [
    "jovian.commit()"
   ]
  },
  {
   "cell_type": "markdown",
   "metadata": {
    "id": "hbdHQRaeNPy8"
   },
   "source": [
    "## 4. Train & Evaluate Different Models"
   ]
  },
  {
   "cell_type": "markdown",
   "metadata": {
    "id": "fd77aN0yNfHe"
   },
   "source": [
    "We'll train each of the following:\n",
    "- Linear Regression\n",
    "- Random Forests\n",
    "- Gradient Boosting\n",
    "- Train Ridge\n",
    "- SVM\n",
    "- KNN\n",
    "- Decision Tree model"
   ]
  },
  {
   "cell_type": "markdown",
   "metadata": {
    "id": "Qvfsbg1ePeEQ"
   },
   "source": [
    "Let's define a helper function to evaluate models and generate test predictions"
   ]
  },
  {
   "cell_type": "code",
   "execution_count": null,
   "metadata": {
    "id": "D-k1qr59QrmU"
   },
   "outputs": [],
   "source": [
    "from sklearn.metrics import mean_squared_error"
   ]
  },
  {
   "cell_type": "code",
   "execution_count": null,
   "metadata": {
    "id": "TNSghpbTPZbM"
   },
   "outputs": [],
   "source": [
    "#creating a helper function to predict our values and calculate Mean square error\n",
    "def evaluate(model):\n",
    "    train_preds = model.predict(train_inputs)\n",
    "    train_rmse = mean_squared_error(train_targets, train_preds, squared=False)\n",
    "    val_preds = model.predict(val_inputs)\n",
    "    val_rmse = mean_squared_error(val_targets, val_preds, squared=False)\n",
    "    return train_rmse, val_rmse, train_preds, val_preds"
   ]
  },
  {
   "cell_type": "code",
   "execution_count": null,
   "metadata": {
    "id": "z83b4LPAPge_"
   },
   "outputs": [],
   "source": [
    "def predict_and_submit(model, fname):\n",
    "    test_preds = model.predict(test_inputs)\n",
    "    sub_df = pd.read_csv(data+'/sample_submission.csv')\n",
    "    sub_df['fare_amount'] = test_preds\n",
    "    sub_df.to_csv(fname, index=None)\n",
    "    return sub_df"
   ]
  },
  {
   "cell_type": "markdown",
   "metadata": {
    "id": "XSHiHsS8OyfM"
   },
   "source": [
    "### Linear Regression (Ridge Regression)"
   ]
  },
  {
   "cell_type": "code",
   "execution_count": null,
   "metadata": {
    "id": "x1qoMp9eNAdn"
   },
   "outputs": [],
   "source": [
    "from sklearn.linear_model import Ridge"
   ]
  },
  {
   "cell_type": "code",
   "execution_count": null,
   "metadata": {
    "id": "b9ceImJOPXjQ"
   },
   "outputs": [],
   "source": [
    "model_ridge = Ridge(random_state = 42)"
   ]
  },
  {
   "cell_type": "code",
   "execution_count": null,
   "metadata": {
    "id": "rZxLJEetQFnM"
   },
   "outputs": [],
   "source": [
    "%%time\n",
    "model_ridge.fit(train_inputs, train_targets)"
   ]
  },
  {
   "cell_type": "code",
   "execution_count": null,
   "metadata": {
    "id": "q_kd2NDPQK7D"
   },
   "outputs": [],
   "source": [
    "evaluate(model_ridge)"
   ]
  },
  {
   "cell_type": "markdown",
   "metadata": {
    "id": "-EHnOD8tQ7AO"
   },
   "source": [
    "Ridge Model was able to get to an RMSE of $5.2"
   ]
  },
  {
   "cell_type": "code",
   "execution_count": null,
   "metadata": {
    "id": "Sqfsn472QTv1"
   },
   "outputs": [],
   "source": [
    "predict_and_submit(model_ridge, 'ridge_model_submission.csv')"
   ]
  },
  {
   "cell_type": "markdown",
   "metadata": {
    "id": "ROeLkbl8S-B2"
   },
   "source": [
    "![Screenshot_20221011_071539.png](data:image/png;base64,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)"
   ]
  },
  {
   "cell_type": "code",
   "execution_count": null,
   "metadata": {
    "id": "L_s1qJlKTQlt"
   },
   "outputs": [],
   "source": [
    "jovian.commit()"
   ]
  },
  {
   "cell_type": "markdown",
   "metadata": {
    "id": "Bsehe7K-TNp0"
   },
   "source": [
    "### Random Forest Model"
   ]
  },
  {
   "cell_type": "code",
   "execution_count": null,
   "metadata": {
    "id": "JDs63_sPRGmi"
   },
   "outputs": [],
   "source": [
    "from sklearn.ensemble import RandomForestRegressor"
   ]
  },
  {
   "cell_type": "code",
   "execution_count": null,
   "metadata": {
    "id": "7H2NoBOpTbJL"
   },
   "outputs": [],
   "source": [
    "model_Randomforest = RandomForestRegressor(max_depth=10, n_jobs=-1, random_state=42, n_estimators=50)"
   ]
  },
  {
   "cell_type": "code",
   "execution_count": null,
   "metadata": {
    "id": "F0Y5cghjUpyq"
   },
   "outputs": [],
   "source": [
    "%%time\n",
    "model_Randomforest.fit(train_inputs, train_targets)"
   ]
  },
  {
   "cell_type": "code",
   "execution_count": null,
   "metadata": {
    "id": "ywcTiIX_UuiB"
   },
   "outputs": [],
   "source": [
    "evaluate(model_Randomforest)"
   ]
  },
  {
   "cell_type": "code",
   "execution_count": null,
   "metadata": {
    "id": "Rt9RFNisVCPh"
   },
   "outputs": [],
   "source": [
    "predict_and_submit(model_Randomforest, 'RandomForest_Model_submission.csv')"
   ]
  },
  {
   "cell_type": "markdown",
   "metadata": {
    "id": "0C-TXJJlVqHY"
   },
   "source": [
    "![Screenshot_20221011_072731.png](data:image/png;base64,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)"
   ]
  },
  {
   "cell_type": "code",
   "execution_count": null,
   "metadata": {
    "id": "yo4Lp-viVQ87"
   },
   "outputs": [],
   "source": [
    "jovian.commit()"
   ]
  },
  {
   "cell_type": "markdown",
   "metadata": {
    "id": "TYuXw1bWW4Z9"
   },
   "source": [
    "### Gradient Boosting Model"
   ]
  },
  {
   "cell_type": "code",
   "execution_count": null,
   "metadata": {
    "id": "mJI3_yV3V03N"
   },
   "outputs": [],
   "source": [
    "from xgboost import XGBRegressor"
   ]
  },
  {
   "cell_type": "code",
   "execution_count": null,
   "metadata": {
    "id": "C8a3N7TyXenA"
   },
   "outputs": [],
   "source": [
    "model_GradientBoosting = XGBRegressor(random_state = 42, n_jobs = -1, objective = 'reg:squarederror')"
   ]
  },
  {
   "cell_type": "code",
   "execution_count": null,
   "metadata": {
    "id": "duSdvJvDX1Tn"
   },
   "outputs": [],
   "source": [
    "%%time\n",
    "model_GradientBoosting.fit(train_inputs, train_targets)"
   ]
  },
  {
   "cell_type": "code",
   "execution_count": null,
   "metadata": {
    "id": "-hGx4BucX4Do"
   },
   "outputs": [],
   "source": [
    "evaluate(model_GradientBoosting)"
   ]
  },
  {
   "cell_type": "code",
   "execution_count": null,
   "metadata": {
    "id": "Qe3Mi0pOX9wq"
   },
   "outputs": [],
   "source": [
    "predict_and_submit(model_GradientBoosting, 'GradientBoosting_Model_submission.csv')"
   ]
  },
  {
   "cell_type": "markdown",
   "metadata": {
    "id": "h8xuDdDgYj9I"
   },
   "source": [
    "![Screenshot_20221011_074015.png](data:image/png;base64,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)"
   ]
  },
  {
   "cell_type": "code",
   "execution_count": null,
   "metadata": {
    "id": "e041X8D_YNvh"
   },
   "outputs": [],
   "source": [
    "jovian.commit()"
   ]
  },
  {
   "cell_type": "code",
   "execution_count": null,
   "metadata": {
    "id": "Cm5PUI-WYom_"
   },
   "outputs": [],
   "source": []
  }
 ],
 "metadata": {
  "accelerator": "GPU",
  "colab": {
   "name": "",
   "version": ""
  },
  "language_info": {
   "codemirror_mode": {
    "name": "ipython",
    "version": 3
   },
   "file_extension": ".py",
   "mimetype": "text/x-python",
   "name": "python",
   "nbconvert_exporter": "python",
   "pygments_lexer": "ipython3",
   "version": "3.7.6"
  }
 },
 "nbformat": 4,
 "nbformat_minor": 0
}